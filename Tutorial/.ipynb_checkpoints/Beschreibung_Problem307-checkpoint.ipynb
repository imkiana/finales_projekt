{
 "cells": [
  {
   "cell_type": "markdown",
   "id": "567cd2ef-6208-4b05-a55e-ca700e47b840",
   "metadata": {},
   "source": [
    "# Problem 307: defekte Chips\n",
    "Auf [n > 0] viele Chips werden [k > 0] viele Defekte zufällig verteilt.\n",
    "<br>\n",
    "Und die Wahrscheinlichkeit berechnet, das 3 oder mehr Defekte an einem Chip sind."
   ]
  },
  {
   "cell_type": "markdown",
   "id": "4d30b9a4-4518-4d2b-bd4d-d352bebe58f7",
   "metadata": {},
   "source": [
    "k = Anzahl der Defekte\n",
    "<br><br>\n",
    "n = Anzahl der Chips\n",
    "<br><br>\n",
    "it = Anzahl der Iterationen."
   ]
  },
  {
   "cell_type": "code",
   "execution_count": 1,
   "id": "34cc5104-abdc-42dd-b631-e91f0ee1e437",
   "metadata": {},
   "outputs": [
    {
     "data": {
      "text/plain": [
       "0.008"
      ]
     },
     "execution_count": 1,
     "metadata": {},
     "output_type": "execute_result"
    }
   ],
   "source": [
    "from meinPaket.Problem307 import Chips\n",
    "\n",
    "Objekt = Chips(k=3, n=7)\n",
    "Objekt.fun(it=1000)"
   ]
  }
 ],
 "metadata": {
  "kernelspec": {
   "display_name": "Python 3 (ipykernel)",
   "language": "python",
   "name": "python3"
  },
  "language_info": {
   "codemirror_mode": {
    "name": "ipython",
    "version": 3
   },
   "file_extension": ".py",
   "mimetype": "text/x-python",
   "name": "python",
   "nbconvert_exporter": "python",
   "pygments_lexer": "ipython3",
   "version": "3.12.4"
  }
 },
 "nbformat": 4,
 "nbformat_minor": 5
}
