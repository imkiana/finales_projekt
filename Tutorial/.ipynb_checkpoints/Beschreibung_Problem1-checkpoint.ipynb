{
 "cells": [
  {
   "cell_type": "markdown",
   "id": "656377aa-2e87-4f27-bd62-1771d4a30aca",
   "metadata": {},
   "source": [
    "# Problem 1: Faktoren von 3 und 5\n",
    "Für eine beliebige Zahl [n < -1 | n > 1]\n",
    "wird die Summe aller Zahlen von 0 bis zu dieser Zahl berechnet, welche durch 3 und 5 teilbar sind."
   ]
  },
  {
   "cell_type": "code",
   "execution_count": 1,
   "id": "61f400f8-c208-43a4-8906-c85cee532f67",
   "metadata": {},
   "outputs": [
    {
     "data": {
      "text/plain": [
       "2318"
      ]
     },
     "execution_count": 1,
     "metadata": {},
     "output_type": "execute_result"
    }
   ],
   "source": [
    "from meinPaket.Problem1 import f1\n",
    "f1(n=100)"
   ]
  }
 ],
 "metadata": {
  "kernelspec": {
   "display_name": "Python 3 (ipykernel)",
   "language": "python",
   "name": "python3"
  },
  "language_info": {
   "codemirror_mode": {
    "name": "ipython",
    "version": 3
   },
   "file_extension": ".py",
   "mimetype": "text/x-python",
   "name": "python",
   "nbconvert_exporter": "python",
   "pygments_lexer": "ipython3",
   "version": "3.12.4"
  }
 },
 "nbformat": 4,
 "nbformat_minor": 5
}
