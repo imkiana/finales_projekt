{
 "cells": [
  {
   "cell_type": "markdown",
   "id": "cc271bb9-92fd-4061-a81b-ca4e8dd71b67",
   "metadata": {},
   "source": [
    "# Problem 340: Crazy Function\n",
    "Für [a, b, c | 0≠a=b=c] wird eine Crazy Funktion angewendet. "
   ]
  },
  {
   "cell_type": "markdown",
   "id": "12ccfdfa-1ea7-4472-b969-f56f5f555160",
   "metadata": {},
   "source": [
    "$S(a, b, c)=\\sum_{n=0}^b F(n)$\r\n"
   ]
  },
  {
   "cell_type": "code",
   "execution_count": 1,
   "id": "055803bc-4eb9-4287-8b5f-5a9c747eb71c",
   "metadata": {},
   "outputs": [
    {
     "data": {
      "text/plain": [
       "5202200"
      ]
     },
     "execution_count": 1,
     "metadata": {},
     "output_type": "execute_result"
    }
   ],
   "source": [
    "from meinPaket.Problem340 import CrazyFunction\n",
    "\n",
    "Objekt = CrazyFunction(a = 50, b = 2000, c = 40)\n",
    "Objekt.S()"
   ]
  }
 ],
 "metadata": {
  "kernelspec": {
   "display_name": "Python 3 (ipykernel)",
   "language": "python",
   "name": "python3"
  },
  "language_info": {
   "codemirror_mode": {
    "name": "ipython",
    "version": 3
   },
   "file_extension": ".py",
   "mimetype": "text/x-python",
   "name": "python",
   "nbconvert_exporter": "python",
   "pygments_lexer": "ipython3",
   "version": "3.12.4"
  }
 },
 "nbformat": 4,
 "nbformat_minor": 5
}
