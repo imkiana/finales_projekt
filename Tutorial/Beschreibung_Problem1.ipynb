{
 "cells": [
  {
   "cell_type": "markdown",
   "id": "656377aa-2e87-4f27-bd62-1771d4a30aca",
   "metadata": {},
   "source": [
    "# Problem 1: Faktoren von 3 und 5\n",
    "Für eine beliebige Zahl [n < -1 | n > 1]\n",
    "wird die Summe aller Zahlen von 0 bis zu dieser Zahl berechnet, welche durch 3 und 5 teilbar sind."
   ]
  },
  {
   "cell_type": "code",
   "execution_count": 20,
   "id": "61f400f8-c208-43a4-8906-c85cee532f67",
   "metadata": {},
   "outputs": [
    {
     "ename": "ImportError",
     "evalue": "cannot import name 'f1' from 'meinPaket.Problem1' (D:\\anaconda3\\Lib\\site-packages\\meinPaket\\Problem1.py)",
     "output_type": "error",
     "traceback": [
      "\u001b[1;31m---------------------------------------------------------------------------\u001b[0m",
      "\u001b[1;31mImportError\u001b[0m                               Traceback (most recent call last)",
      "Cell \u001b[1;32mIn[20], line 1\u001b[0m\n\u001b[1;32m----> 1\u001b[0m \u001b[38;5;28;01mfrom\u001b[39;00m \u001b[38;5;21;01mmeinPaket\u001b[39;00m\u001b[38;5;21;01m.\u001b[39;00m\u001b[38;5;21;01mProblem1\u001b[39;00m \u001b[38;5;28;01mimport\u001b[39;00m f1\n\u001b[0;32m      2\u001b[0m f(n\u001b[38;5;241m=\u001b[39m\u001b[38;5;241m100\u001b[39m)\n",
      "\u001b[1;31mImportError\u001b[0m: cannot import name 'f1' from 'meinPaket.Problem1' (D:\\anaconda3\\Lib\\site-packages\\meinPaket\\Problem1.py)"
     ]
    }
   ],
   "source": [
    "from meinPaket.Problem1 import f1\n",
    "f(n=100)"
   ]
  }
 ],
 "metadata": {
  "kernelspec": {
   "display_name": "Python 3 (ipykernel)",
   "language": "python",
   "name": "python3"
  },
  "language_info": {
   "codemirror_mode": {
    "name": "ipython",
    "version": 3
   },
   "file_extension": ".py",
   "mimetype": "text/x-python",
   "name": "python",
   "nbconvert_exporter": "python",
   "pygments_lexer": "ipython3",
   "version": "3.12.4"
  }
 },
 "nbformat": 4,
 "nbformat_minor": 5
}
