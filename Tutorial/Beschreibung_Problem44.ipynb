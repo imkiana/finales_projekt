{
 "cells": [
  {
   "cell_type": "markdown",
   "id": "c6b0ca87-7e4c-469e-a164-6470d4772511",
   "metadata": {},
   "source": [
    "# Problem 44: Pentagon Nummern\n",
    "Für die Reihe n(3n-1)/2 wird die Zahl gesucht, welche aus der Different zweier Pentagon Nummern entsteht,<br> die Summer der beiden Pentagon Nummern muss erneut eine Pentagon Nummer sein."
   ]
  },
  {
   "cell_type": "code",
   "execution_count": 1,
   "id": "3cb7a648-6eb4-4f54-9e53-2b4dd14b9656",
   "metadata": {},
   "outputs": [],
   "source": [
    "from meinPaket.Problem44 import f44\n",
    "\n",
    "#f44() das Ausführen dauert ein paar Stunden, die Antwort lautet 5482660\n",
    "#Nummer 1 = 1560090\n",
    "#Nummer 2 = 7042750\n",
    "#Sumem = 8602840"
   ]
  }
 ],
 "metadata": {
  "kernelspec": {
   "display_name": "Python 3 (ipykernel)",
   "language": "python",
   "name": "python3"
  },
  "language_info": {
   "codemirror_mode": {
    "name": "ipython",
    "version": 3
   },
   "file_extension": ".py",
   "mimetype": "text/x-python",
   "name": "python",
   "nbconvert_exporter": "python",
   "pygments_lexer": "ipython3",
   "version": "3.12.4"
  }
 },
 "nbformat": 4,
 "nbformat_minor": 5
}
