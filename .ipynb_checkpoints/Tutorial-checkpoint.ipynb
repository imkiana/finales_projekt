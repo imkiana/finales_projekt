{
 "cells": [
  {
   "cell_type": "markdown",
   "id": "9dc7e5a1-71e5-4f17-b40e-0251374804bf",
   "metadata": {},
   "source": [
    "# Finales Projekt von Kiana Heuser\n",
    "**Inhalt:**\n",
    "Projekt Euler\n",
    "+ [Problem 1](./meinPaket/Problem1.py)     [[Beschreibung]](./Tutorial/Beschreibung_Problem1.ipynb)\n",
    "+ [Problem 2](./meinPaket/Problem2.py)     [[Beschreibung]](./Tutorial/Beschreibung_Problem2.ipynb)\n",
    "+ [Problem 6](./meinPaket/Problem6.py)     [[Beschreibung]](./Tutorial/Beschreibung_Problem6.ipynb)\n",
    "+ [Problem 84](./meinPaket/Problem84.py)   [[Beschreibung]](./Tutorial/Beschreibung_Problem84.ipynb)\n",
    "+ [Problem 307](./meinPaket/Problem307.py) [[Beschreibung]](./Tutorial/Beschreibung_Problem307.ipynb)\n",
    "+ [Problem 340](./meinPaket/Problem340.py) [[Beschreibung]](./Tutorial/Beschreibung_Problem340.ipynb)"
   ]
  }
 ],
 "metadata": {
  "kernelspec": {
   "display_name": "Python 3 (ipykernel)",
   "language": "python",
   "name": "python3"
  },
  "language_info": {
   "codemirror_mode": {
    "name": "ipython",
    "version": 3
   },
   "file_extension": ".py",
   "mimetype": "text/x-python",
   "name": "python",
   "nbconvert_exporter": "python",
   "pygments_lexer": "ipython3",
   "version": "3.12.4"
  }
 },
 "nbformat": 4,
 "nbformat_minor": 5
}
