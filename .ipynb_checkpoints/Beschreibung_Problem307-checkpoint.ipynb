{
 "cells": [
  {
   "cell_type": "markdown",
   "id": "567cd2ef-6208-4b05-a55e-ca700e47b840",
   "metadata": {},
   "source": [
    "# Problem 307: defekte Chips\n",
    "Auf [n > 0] viele Chips werden [k > 0] viele Defekte zufällig verteilt.\n",
    "<br>\n",
    "Und die Wahrscheinlichkeit berechnet, das 3 oder mehr Defekte an einem Chip sind."
   ]
  },
  {
   "cell_type": "markdown",
   "id": "4d30b9a4-4518-4d2b-bd4d-d352bebe58f7",
   "metadata": {},
   "source": [
    "k = Anzahl der Defekte\n",
    "<br><br>\n",
    "n = Anzahl der Chips\n",
    "<br><br>\n",
    "it = Anzahl der Iterationen."
   ]
  },
  {
   "cell_type": "raw",
   "id": "ffa44e93-b2cb-458b-be1d-28b0a5062e79",
   "metadata": {},
   "source": [
    "Objekt = Chips(k, n)\n",
    "Objekt.fun(it)"
   ]
  }
 ],
 "metadata": {
  "kernelspec": {
   "display_name": "Python 3 (ipykernel)",
   "language": "python",
   "name": "python3"
  },
  "language_info": {
   "codemirror_mode": {
    "name": "ipython",
    "version": 3
   },
   "file_extension": ".py",
   "mimetype": "text/x-python",
   "name": "python",
   "nbconvert_exporter": "python",
   "pygments_lexer": "ipython3",
   "version": "3.12.4"
  }
 },
 "nbformat": 4,
 "nbformat_minor": 5
}
