{
 "cells": [
  {
   "cell_type": "markdown",
   "id": "9dc7e5a1-71e5-4f17-b40e-0251374804bf",
   "metadata": {},
   "source": [
    "# Finales Projekt von Kiana Heuser\n",
    "**Inhalt:**\n",
    "Projekt Euler\n",
    "+ [Problem 1](./Problem1.py)     [[Beschreibung]]()\n",
    "+ [Problem 2](./Problem2.py)     [[Beschreibung]]()\n",
    "+ [Problem 6](./Problem6.py)     [[Beschreibung]]()\n",
    "+ [Problem 84](./Problem84.py)   [[Beschreibung]]()\n",
    "+ [Problem 307](./Problem307.py) [[Beschreibung]]()\n",
    "+ [Problem 340](./Problem340.py) [[Beschreibung]]()"
   ]
  }
 ],
 "metadata": {
  "kernelspec": {
   "display_name": "Python 3 (ipykernel)",
   "language": "python",
   "name": "python3"
  },
  "language_info": {
   "codemirror_mode": {
    "name": "ipython",
    "version": 3
   },
   "file_extension": ".py",
   "mimetype": "text/x-python",
   "name": "python",
   "nbconvert_exporter": "python",
   "pygments_lexer": "ipython3",
   "version": "3.12.4"
  }
 },
 "nbformat": 4,
 "nbformat_minor": 5
}
