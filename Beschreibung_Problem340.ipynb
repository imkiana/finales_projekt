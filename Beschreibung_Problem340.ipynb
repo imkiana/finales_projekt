{
 "cells": [
  {
   "cell_type": "markdown",
   "id": "6b5f3fd5-3f79-445c-bff5-1cd171e4ee03",
   "metadata": {},
   "source": [
    "# Problem 340: Crazy Function\n",
    "Für [a, b, c | 0≠a=b=c] wird eine Crazy Funktion angewendet. "
   ]
  },
  {
   "cell_type": "markdown",
   "id": "12ccfdfa-1ea7-4472-b969-f56f5f555160",
   "metadata": {},
   "source": [
    "$S(a, b, c)=\\sum_{n=0}^b F(n)$\r\n"
   ]
  },
  {
   "cell_type": "raw",
   "id": "190ba2bb-9e33-42be-872b-af4138edcea9",
   "metadata": {},
   "source": [
    "Objekt = CrazyFunction(a = 50, b = 2000, c = 40)\n",
    "Objekt.S()"
   ]
  }
 ],
 "metadata": {
  "kernelspec": {
   "display_name": "Python 3 (ipykernel)",
   "language": "python",
   "name": "python3"
  },
  "language_info": {
   "codemirror_mode": {
    "name": "ipython",
    "version": 3
   },
   "file_extension": ".py",
   "mimetype": "text/x-python",
   "name": "python",
   "nbconvert_exporter": "python",
   "pygments_lexer": "ipython3",
   "version": "3.12.4"
  }
 },
 "nbformat": 4,
 "nbformat_minor": 5
}
