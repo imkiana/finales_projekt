{
 "cells": [
  {
   "cell_type": "markdown",
   "id": "656377aa-2e87-4f27-bd62-1771d4a30aca",
   "metadata": {},
   "source": [
    "# Problem 1: Faktoren von 3 und 5\n",
    "Für eine beliebige Zahl [n < -1 | n > 1]\n",
    "wird die Summe aller Zahlen von 0 bis zu dieser Zahl berechnet, welche durch 3 und 5 teilbar sind."
   ]
  },
  {
   "cell_type": "raw",
   "id": "8e0cb4db-6a73-4597-b5b4-5565e807b0ab",
   "metadata": {},
   "source": [
    ">f(n=100)\n",
    "\n",
    "Out[]: 2318"
   ]
  }
 ],
 "metadata": {
  "kernelspec": {
   "display_name": "Python 3 (ipykernel)",
   "language": "python",
   "name": "python3"
  },
  "language_info": {
   "codemirror_mode": {
    "name": "ipython",
    "version": 3
   },
   "file_extension": ".py",
   "mimetype": "text/x-python",
   "name": "python",
   "nbconvert_exporter": "python",
   "pygments_lexer": "ipython3",
   "version": "3.12.4"
  }
 },
 "nbformat": 4,
 "nbformat_minor": 5
}
